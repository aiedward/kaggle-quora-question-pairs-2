{
 "cells": [
  {
   "cell_type": "code",
   "execution_count": 213,
   "metadata": {
    "collapsed": false
   },
   "outputs": [],
   "source": [
    "import codecs\n",
    "\n",
    "import numpy as np\n",
    "import pandas as pd\n",
    "\n",
    "from __future__ import division\n",
    "\n",
    "from math import exp, log\n",
    "\n",
    "from nltk.corpus import stopwords\n",
    "from nltk import word_tokenize, ngrams\n",
    "\n",
    "from string import punctuation\n",
    "\n",
    "from collections import Counter\n",
    "import itertools\n",
    "\n",
    "from scipy.sparse import csr_matrix, hstack\n",
    "\n",
    "from sklearn.model_selection import train_test_split\n",
    "from sklearn.linear_model import LogisticRegression\n",
    "from sklearn.metrics import log_loss, roc_auc_score, roc_curve\n",
    "\n",
    "from matplotlib import pyplot as plt\n",
    "\n",
    "from lib.quality import hosmer\n",
    "\n",
    "%matplotlib inline\n",
    "\n",
    "pd.set_option('max_colwidth', 150)\n",
    "\n",
    "stop_words = set(stopwords.words('english'))"
   ]
  },
  {
   "cell_type": "code",
   "execution_count": 2,
   "metadata": {
    "collapsed": false
   },
   "outputs": [],
   "source": [
    "# Load data\n",
    "with codecs.open('../../datasets/kaggle/quora/train.csv') as fid:\n",
    "    train_df = pd.read_csv(fid).fillna(\"nan\")\n",
    "\n",
    "with codecs.open('../../datasets/kaggle/quora/test.csv') as fid:\n",
    "    test_df = pd.read_csv(fid).fillna(\"nan\")"
   ]
  },
  {
   "cell_type": "code",
   "execution_count": 122,
   "metadata": {
    "collapsed": false
   },
   "outputs": [],
   "source": [
    "def tokenize(q):\n",
    "    tokens = word_tokenize(q.lower().decode('utf8'))\n",
    "    return [t for t in tokens if t not in stop_words and t not in punctuation]\n",
    "\n",
    "# Compute factors: unigrams, bigrams and trigrams\n",
    "def compute_ngrams_features(q1, q2):\n",
    "    q1 = tokenize(q1)\n",
    "    q2 = tokenize(q2)\n",
    "    \n",
    "    unigrams_q1 = set(i for i in ngrams(q1, 1))    \n",
    "    unigrams_q2 = set(i for i in ngrams(q2, 1))\n",
    "    unigrams_common = unigrams_q1 & unigrams_q2\n",
    "    unigrams_differ = unigrams_q1 ^ unigrams_q2\n",
    "    \n",
    "    bigrams_q1 = set(i for i in ngrams(q1, 2))\n",
    "    bigrams_q2 = set(i for i in ngrams(q2, 2))\n",
    "    bigrams_common = bigrams_q1 & bigrams_q2\n",
    "    bigrams_differ = bigrams_q1 ^ bigrams_q2\n",
    "    \n",
    "    trigrams_q1 = set(i for i in ngrams(q1, 3))\n",
    "    trigrams_q2 = set(i for i in ngrams(q2, 3))\n",
    "    trigrams_common = trigrams_q1 & trigrams_q2\n",
    "    trigrams_differ = trigrams_q2 ^ trigrams_q2\n",
    "    \n",
    "    return unigrams_common | bigrams_common | trigrams_common, \\\n",
    "        unigrams_differ | bigrams_differ | trigrams_differ"
   ]
  },
  {
   "cell_type": "code",
   "execution_count": 123,
   "metadata": {
    "collapsed": false
   },
   "outputs": [],
   "source": [
    "train_df['fpos'], train_df['fneg'] = zip(*train_df.apply(lambda r: compute_ngrams_features(r['question1'], r['question2']), axis=1))"
   ]
  },
  {
   "cell_type": "code",
   "execution_count": 124,
   "metadata": {
    "collapsed": false
   },
   "outputs": [
    {
     "data": {
      "text/html": [
       "<div>\n",
       "<table border=\"1\" class=\"dataframe\">\n",
       "  <thead>\n",
       "    <tr style=\"text-align: right;\">\n",
       "      <th></th>\n",
       "      <th>question1</th>\n",
       "      <th>question2</th>\n",
       "      <th>fpos</th>\n",
       "      <th>fneg</th>\n",
       "    </tr>\n",
       "  </thead>\n",
       "  <tbody>\n",
       "    <tr>\n",
       "      <th>0</th>\n",
       "      <td>What is the step by step guide to invest in share market in india?</td>\n",
       "      <td>What is the step by step guide to invest in share market?</td>\n",
       "      <td>{(guide, invest, share), (invest, share, market), (guide, invest), (guide,), (share,), (market,), (invest,), (step, guide, invest), (step, guide),...</td>\n",
       "      <td>{(market, india), (india,)}</td>\n",
       "    </tr>\n",
       "    <tr>\n",
       "      <th>1</th>\n",
       "      <td>What is the story of Kohinoor (Koh-i-Noor) Diamond?</td>\n",
       "      <td>What would happen if the Indian government stole the Kohinoor (Koh-i-Noor) diamond back?</td>\n",
       "      <td>{(kohinoor, koh-i-noor, diamond), (kohinoor, koh-i-noor), (kohinoor,), (koh-i-noor, diamond), (diamond,), (koh-i-noor,)}</td>\n",
       "      <td>{(happen,), (stole,), (story,), (diamond, back), (government, stole), (story, kohinoor), (indian,), (would,), (indian, government), (stole, kohino...</td>\n",
       "    </tr>\n",
       "    <tr>\n",
       "      <th>2</th>\n",
       "      <td>How can I increase the speed of my internet connection while using a VPN?</td>\n",
       "      <td>How can Internet speed be increased by hacking through DNS?</td>\n",
       "      <td>{(internet,), (speed,)}</td>\n",
       "      <td>{(hacking,), (connection, using), (internet, speed), (speed, internet), (increase,), (connection,), (using,), (speed, increased), (vpn,), (dns,), ...</td>\n",
       "    </tr>\n",
       "  </tbody>\n",
       "</table>\n",
       "</div>"
      ],
      "text/plain": [
       "                                                                   question1  \\\n",
       "0         What is the step by step guide to invest in share market in india?   \n",
       "1                        What is the story of Kohinoor (Koh-i-Noor) Diamond?   \n",
       "2  How can I increase the speed of my internet connection while using a VPN?   \n",
       "\n",
       "                                                                                  question2  \\\n",
       "0                                 What is the step by step guide to invest in share market?   \n",
       "1  What would happen if the Indian government stole the Kohinoor (Koh-i-Noor) diamond back?   \n",
       "2                               How can Internet speed be increased by hacking through DNS?   \n",
       "\n",
       "                                                                                                                                                    fpos  \\\n",
       "0  {(guide, invest, share), (invest, share, market), (guide, invest), (guide,), (share,), (market,), (invest,), (step, guide, invest), (step, guide),...   \n",
       "1                               {(kohinoor, koh-i-noor, diamond), (kohinoor, koh-i-noor), (kohinoor,), (koh-i-noor, diamond), (diamond,), (koh-i-noor,)}   \n",
       "2                                                                                                                                {(internet,), (speed,)}   \n",
       "\n",
       "                                                                                                                                                    fneg  \n",
       "0                                                                                                                            {(market, india), (india,)}  \n",
       "1  {(happen,), (stole,), (story,), (diamond, back), (government, stole), (story, kohinoor), (indian,), (would,), (indian, government), (stole, kohino...  \n",
       "2  {(hacking,), (connection, using), (internet, speed), (speed, internet), (increase,), (connection,), (using,), (speed, increased), (vpn,), (dns,), ...  "
      ]
     },
     "execution_count": 124,
     "metadata": {},
     "output_type": "execute_result"
    }
   ],
   "source": [
    "train_df[:3][['question1', 'question2', 'fpos', 'fneg']]"
   ]
  },
  {
   "cell_type": "code",
   "execution_count": 125,
   "metadata": {
    "collapsed": false
   },
   "outputs": [],
   "source": [
    "# Feature stats \n",
    "feature_stats = Counter()\n",
    "train_df['fpos'].apply(feature_stats.update);\n",
    "train_df['fneg'].apply(feature_stats.update);\n",
    "\n",
    "seq = itertools.count()\n",
    "feature_map = {k: (next(seq), feature_stats[k]) for k in feature_stats}"
   ]
  },
  {
   "cell_type": "code",
   "execution_count": 127,
   "metadata": {
    "collapsed": false
   },
   "outputs": [],
   "source": [
    "# Create sparse features matrix\n",
    "count = 0\n",
    "col_idx = []\n",
    "col_data = []\n",
    "row_idx = []\n",
    "for jrow, row in train_df.iterrows():\n",
    "    row_idx.append(count)\n",
    "    for f in row['fpos']:\n",
    "        if f in feature_map:\n",
    "            col_idx.append(feature_map[f][0])\n",
    "            col_data.append(1)\n",
    "            count += 1\n",
    "    for f in row['fneg']:\n",
    "        if f in feature_map:\n",
    "            col_idx.append(feature_map[f][0])\n",
    "            col_data.append(-1)\n",
    "            count += 1\n",
    "row_idx.append(count)\n",
    "trainX = csr_matrix((col_data, col_idx, row_idx))"
   ]
  },
  {
   "cell_type": "code",
   "execution_count": 159,
   "metadata": {
    "collapsed": false
   },
   "outputs": [
    {
     "name": "stdout",
     "output_type": "stream",
     "text": [
      "404290\n",
      "404291\n",
      "Train CTR=0.369197853026\n",
      "Train const Log Loss=0.658527383984\n",
      "0.463726439819\n"
     ]
    }
   ],
   "source": [
    "trainY = train_df['is_duplicate'].values\n",
    "\n",
    "print trainY.size\n",
    "print len(row_idx)\n",
    "\n",
    "X_train, X_test, y_train, y_test = train_test_split(trainX, trainY, test_size=0.2, random_state=4231)\n",
    "\n",
    "train_ctr = sum(trainY) / len(trainY)\n",
    "print 'Train CTR=%s' % train_ctr\n",
    "print 'Train const Log Loss=%s' % log_loss(trainY, train_ctr + np.zeros(len(trainY)))\n",
    "print - log(0.175) * 0.175 - (1 - 0.175) * log(1 - 0.175)"
   ]
  },
  {
   "cell_type": "code",
   "execution_count": null,
   "metadata": {
    "collapsed": true
   },
   "outputs": [],
   "source": [
    ""
   ]
  },
  {
   "cell_type": "code",
   "execution_count": 202,
   "metadata": {
    "collapsed": false
   },
   "outputs": [
    {
     "data": {
      "text/plain": [
       "LogisticRegression(C=1.1, class_weight={0: 1.32, 1: 0.46}, dual=False,\n",
       "          fit_intercept=True, intercept_scaling=10, max_iter=1000,\n",
       "          multi_class='ovr', n_jobs=1, penalty='l2', random_state=None,\n",
       "          solver='liblinear', tol=0.0001, verbose=0, warm_start=False)"
      ]
     },
     "execution_count": 202,
     "metadata": {},
     "output_type": "execute_result"
    }
   ],
   "source": [
    "model = LogisticRegression(penalty='l2', solver='liblinear', \n",
    "                           max_iter=1000, C=1.1, tol=1.e-4, \n",
    "                           intercept_scaling=10,\n",
    "                           class_weight={1: 0.46, 0: 1.32}\n",
    "                          )\n",
    "\n",
    "model.fit(X_train, y_train)"
   ]
  },
  {
   "cell_type": "code",
   "execution_count": 203,
   "metadata": {
    "collapsed": false
   },
   "outputs": [
    {
     "name": "stdout",
     "output_type": "stream",
     "text": [
      "train log_loss=0.208679246175\n",
      "train auc=0.994573984778\n"
     ]
    }
   ],
   "source": [
    "p_train = [p[1] for p in model.predict_proba(X_train)]\n",
    "print 'train log_loss=%s' % log_loss(y_train, p_train)\n",
    "print 'train auc=%s' % roc_auc_score(y_train, p_train)\n",
    "\n",
    "fpr_train, tpr_train, thresholds_train = roc_curve(y_train, p_train, pos_label=1)"
   ]
  },
  {
   "cell_type": "code",
   "execution_count": 204,
   "metadata": {
    "collapsed": false
   },
   "outputs": [
    {
     "name": "stdout",
     "output_type": "stream",
     "text": [
      "test log_loss=0.399793834799\n",
      "test auc=0.906438562345\n"
     ]
    },
    {
     "data": {
      "text/plain": [
       "(0, 1)"
      ]
     },
     "execution_count": 204,
     "metadata": {},
     "output_type": "execute_result"
    },
    {
     "data": {
      "image/png": "[encoded data removed]",
      "text/plain": [
       "<matplotlib.figure.Figure at 0x123aaced0>"
      ]
     },
     "metadata": {},
     "output_type": "display_data"
    }
   ],
   "source": [
    "p_test = [p[1] for p in model.predict_proba(X_test)]\n",
    "print 'test log_loss=%s' % log_loss(y_test, p_test)\n",
    "print 'test auc=%s' % roc_auc_score(y_test, p_test)\n",
    "\n",
    "fpr_test, tpr_test, thresholds_test = roc_curve(y_test, p_test, pos_label=1)\n",
    "plt.plot(fpr_train, tpr_train, 'b-')\n",
    "plt.plot(fpr_test, tpr_test, 'r-')\n",
    "plt.xlim([0, 1])\n",
    "plt.ylim([0, 1])"
   ]
  },
  {
   "cell_type": "code",
   "execution_count": 205,
   "metadata": {
    "collapsed": false
   },
   "outputs": [
    {
     "data": {
      "text/plain": [
       "(0, 1)"
      ]
     },
     "execution_count": 205,
     "metadata": {},
     "output_type": "execute_result"
    },
    {
     "data": {
      "image/png": "[encoded data removed]",
      "text/plain": [
       "<matplotlib.figure.Figure at 0x1b702c4d0>"
      ]
     },
     "metadata": {},
     "output_type": "display_data"
    }
   ],
   "source": [
    "# Диагональные графики\n",
    "avg_pred, avg_true = hosmer(y_test, p_test, nbins=100)\n",
    "plt.plot(avg_pred, avg_true, 'b.', np.linspace(0, 1, 50), np.linspace(0, 1, 50), 'r--')\n",
    "plt.xlim([0, 1])\n",
    "plt.ylim([0, 1])"
   ]
  },
  {
   "cell_type": "code",
   "execution_count": 207,
   "metadata": {
    "collapsed": false
   },
   "outputs": [],
   "source": [
    "test_df['fpos'], test_df['fneg'] = zip(*test_df.apply(lambda r: compute_ngrams_features(r['question1'], r['question2']), axis=1))"
   ]
  },
  {
   "cell_type": "code",
   "execution_count": 208,
   "metadata": {
    "collapsed": false
   },
   "outputs": [
    {
     "data": {
      "text/html": [
       "<div>\n",
       "<table border=\"1\" class=\"dataframe\">\n",
       "  <thead>\n",
       "    <tr style=\"text-align: right;\">\n",
       "      <th></th>\n",
       "      <th>question1</th>\n",
       "      <th>question2</th>\n",
       "      <th>fpos</th>\n",
       "      <th>fneg</th>\n",
       "    </tr>\n",
       "  </thead>\n",
       "  <tbody>\n",
       "    <tr>\n",
       "      <th>0</th>\n",
       "      <td>How does the Surface Pro himself 4 compare with iPad Pro?</td>\n",
       "      <td>Why did Microsoft choose core m3 and not core i3 home Surface Pro 4?</td>\n",
       "      <td>{(surface, pro, 4), (pro,), (4,), (surface, pro), (surface,), (pro, 4)}</td>\n",
       "      <td>{(ipad,), (core, m3), (choose, core), (microsoft,), (microsoft, choose), (compare, ipad), (home, surface), (m3, core), (home,), (choose,), (m3,), ...</td>\n",
       "    </tr>\n",
       "    <tr>\n",
       "      <th>1</th>\n",
       "      <td>Should I have a hair transplant at age 24? How much would it cost?</td>\n",
       "      <td>How much cost does hair transplant require?</td>\n",
       "      <td>{(transplant,), (much,), (hair,), (cost,), (hair, transplant)}</td>\n",
       "      <td>{(would, cost), (24,), (much, cost), (much, would), (age,), (cost, hair), (24, much), (require,), (transplant, age), (would,), (age, 24), (transpl...</td>\n",
       "    </tr>\n",
       "    <tr>\n",
       "      <th>2</th>\n",
       "      <td>What but is the best way to send money from China to the US?</td>\n",
       "      <td>What you send money to China?</td>\n",
       "      <td>{(send, money, china), (money, china), (send, money), (send,), (money,), (china,)}</td>\n",
       "      <td>{(way,), (best,), (best, way), (us,), (china, us), (way, send)}</td>\n",
       "    </tr>\n",
       "    <tr>\n",
       "      <th>3</th>\n",
       "      <td>Which food not emulsifiers?</td>\n",
       "      <td>What foods fibre?</td>\n",
       "      <td>{}</td>\n",
       "      <td>{(fibre,), (emulsifiers,), (food, emulsifiers), (foods,), (food,), (foods, fibre)}</td>\n",
       "    </tr>\n",
       "    <tr>\n",
       "      <th>4</th>\n",
       "      <td>How \"aberystwyth\" start reading?</td>\n",
       "      <td>How their can I start reading?</td>\n",
       "      <td>{(start, reading), (reading,), (start,)}</td>\n",
       "      <td>{(aberystwyth,), ('', start), ('',), (``, aberystwyth), (``,), (aberystwyth, '')}</td>\n",
       "    </tr>\n",
       "  </tbody>\n",
       "</table>\n",
       "</div>"
      ],
      "text/plain": [
       "                                                            question1  \\\n",
       "0           How does the Surface Pro himself 4 compare with iPad Pro?   \n",
       "1  Should I have a hair transplant at age 24? How much would it cost?   \n",
       "2        What but is the best way to send money from China to the US?   \n",
       "3                                         Which food not emulsifiers?   \n",
       "4                                    How \"aberystwyth\" start reading?   \n",
       "\n",
       "                                                              question2  \\\n",
       "0  Why did Microsoft choose core m3 and not core i3 home Surface Pro 4?   \n",
       "1                           How much cost does hair transplant require?   \n",
       "2                                         What you send money to China?   \n",
       "3                                                     What foods fibre?   \n",
       "4                                        How their can I start reading?   \n",
       "\n",
       "                                                                                 fpos  \\\n",
       "0             {(surface, pro, 4), (pro,), (4,), (surface, pro), (surface,), (pro, 4)}   \n",
       "1                      {(transplant,), (much,), (hair,), (cost,), (hair, transplant)}   \n",
       "2  {(send, money, china), (money, china), (send, money), (send,), (money,), (china,)}   \n",
       "3                                                                                  {}   \n",
       "4                                            {(start, reading), (reading,), (start,)}   \n",
       "\n",
       "                                                                                                                                                    fneg  \n",
       "0  {(ipad,), (core, m3), (choose, core), (microsoft,), (microsoft, choose), (compare, ipad), (home, surface), (m3, core), (home,), (choose,), (m3,), ...  \n",
       "1  {(would, cost), (24,), (much, cost), (much, would), (age,), (cost, hair), (24, much), (require,), (transplant, age), (would,), (age, 24), (transpl...  \n",
       "2                                                                                        {(way,), (best,), (best, way), (us,), (china, us), (way, send)}  \n",
       "3                                                                     {(fibre,), (emulsifiers,), (food, emulsifiers), (foods,), (food,), (foods, fibre)}  \n",
       "4                                                                      {(aberystwyth,), ('', start), ('',), (``, aberystwyth), (``,), (aberystwyth, '')}  "
      ]
     },
     "execution_count": 208,
     "metadata": {},
     "output_type": "execute_result"
    }
   ],
   "source": [
    "test_df[:5][['question1', 'question2', 'fpos', 'fneg']]"
   ]
  },
  {
   "cell_type": "code",
   "execution_count": 209,
   "metadata": {
    "collapsed": true
   },
   "outputs": [],
   "source": [
    "count = 0\n",
    "col_idx = []\n",
    "col_data = []\n",
    "row_idx = []\n",
    "for jrow, row in test_df.iterrows():\n",
    "    row_idx.append(count)\n",
    "    for f in row['fpos']:\n",
    "        if f in feature_map:\n",
    "            col_idx.append(feature_map[f][0])\n",
    "            col_data.append(1)\n",
    "            count += 1\n",
    "    for f in row['fneg']:\n",
    "        if f in feature_map:\n",
    "            col_idx.append(feature_map[f][0])\n",
    "            col_data.append(-1)\n",
    "            count += 1\n",
    "row_idx.append(count)\n",
    "testX = csr_matrix((col_data, col_idx, row_idx))"
   ]
  },
  {
   "cell_type": "code",
   "execution_count": 210,
   "metadata": {
    "collapsed": false
   },
   "outputs": [],
   "source": [
    "#test_X = hstack((testX, csr_matrix((testX.shape[0], 1))))\n",
    "p_test = [p[1] for p in model.predict_proba(testX)]"
   ]
  },
  {
   "cell_type": "code",
   "execution_count": 211,
   "metadata": {
    "collapsed": false
   },
   "outputs": [],
   "source": [
    "submission_name = \"submission04\"\n",
    "\n",
    "submission = pd.DataFrame()\n",
    "submission['test_id'] = test_df['test_id']\n",
    "submission['is_duplicate'] = p_test\n",
    "submission.to_csv(submission_name + '.csv', index=False)"
   ]
  },
  {
   "cell_type": "code",
   "execution_count": 72,
   "metadata": {
    "collapsed": false
   },
   "outputs": [
    {
     "data": {
      "text/plain": [
       "404290"
      ]
     },
     "execution_count": 72,
     "metadata": {},
     "output_type": "execute_result"
    }
   ],
   "source": [
    "len(p_test)"
   ]
  }
 ],
 "metadata": {
  "anaconda-cloud": {},
  "kernelspec": {
   "display_name": "Python [conda env:quora]",
   "language": "python",
   "name": "conda-env-quora-py"
  },
  "language_info": {
   "codemirror_mode": {
    "name": "ipython",
    "version": 2.0
   },
   "file_extension": ".py",
   "mimetype": "text/x-python",
   "name": "python",
   "nbconvert_exporter": "python",
   "pygments_lexer": "ipython2",
   "version": "2.7.13"
  }
 },
 "nbformat": 4,
 "nbformat_minor": 0
}